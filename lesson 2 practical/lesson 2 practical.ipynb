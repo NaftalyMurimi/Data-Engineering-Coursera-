{
 "cells": [
  {
   "cell_type": "markdown",
   "id": "668dc7f6",
   "metadata": {},
   "source": [
    "# Lesson 2 practical EXERCISE"
   ]
  },
  {
   "cell_type": "code",
   "execution_count": 15,
   "id": "59135122",
   "metadata": {},
   "outputs": [],
   "source": [
    "# import all modules\n",
    "import glob\n",
    "import pandas as pd \n",
    "import xml.etree.ElementTree as ET \n",
    "from datetime import datetime\n",
    "\n",
    "logFile = \"logFile.txt\"\n",
    "savefile =\"Savefile.csv\""
   ]
  },
  {
   "cell_type": "code",
   "execution_count": null,
   "id": "12490c35",
   "metadata": {},
   "outputs": [],
   "source": []
  },
  {
   "cell_type": "code",
   "execution_count": 30,
   "id": "c102d6b6",
   "metadata": {},
   "outputs": [],
   "source": [
    "def csv_extract(file):\n",
    "    df = pd.read_csv(file)\n",
    "    return df\n",
    "\n",
    "def json_extract(file):\n",
    "    df = pd.read_json(file, lines=True)\n",
    "    return df\n",
    "\n",
    "def xml_extract(file):\n",
    "    df = pd.DataFrame(columns = [\"car_model\", \"year_of_manufacture\", \"price\", \"fuel\"])\n",
    "    tree = ET.parse(file)\n",
    "    root = tree.getroot()\n",
    "    for car in root:\n",
    "        car_model = car.find(\"car_model\").text\n",
    "        YOM = car.find(\"year_of_manufacture\").text\n",
    "        price = float(car.find(\"price\").text)\n",
    "        fuel = car.find(\"fuel\").text\n",
    "        df = pd.concat([df, pd.DataFrame([{\"car_model\": car_model, \"YOM\": year_of_manufacture, \"price\":price, \"fuel\":fuel}])], ignore_index= True)\n",
    "    return df"
   ]
  },
  {
   "cell_type": "code",
   "execution_count": null,
   "id": "1d338e52",
   "metadata": {},
   "outputs": [],
   "source": []
  },
  {
   "cell_type": "code",
   "execution_count": 31,
   "id": "e8deb32b",
   "metadata": {},
   "outputs": [],
   "source": [
    "def extract():\n",
    "    extracted_data = pd.DataFrame(columns=['car_model', 'year_of_manufacture', 'price', 'fuel'])\n",
    "    for csvfile in glob.glob(\"*.csv\"):\n",
    "        extracted_data= pd.concat([extracted_data, pd.DataFrame(csv_extract(csvfile))], ignore_index= True)\n",
    "\n",
    "    for jsonfile in glob.glob(\"*.json\"):\n",
    "        extracted_data= pd.concat([extracted_data, pd.DataFrame(json_extract(jsonfile))], ignore_index= True)\n",
    "    \n",
    "    for xmlfile in glob.glob(\"*.csv\"):\n",
    "        extracted_data= pd.concat([extracted_data, pd.DataFrame(xml_extract(xmlfile))], ignore_index= True)\n",
    "    return extracted_data\n"
   ]
  },
  {
   "cell_type": "code",
   "execution_count": 32,
   "id": "5d9db001",
   "metadata": {},
   "outputs": [],
   "source": [
    "def transform(data):\n",
    "    data[\"price\"] = round(data.price, 2)\n",
    "    return data\n",
    "\n",
    "def load(savefile, transformed_data):\n",
    "    transformed_data.to_csv(savefile)\n",
    "\n",
    "def log_progress(message): \n",
    "    timestamp_format = '%Y-%h-%d-%H:%M:%S' # Year-Monthname-Day-Hour-Minute-Second \n",
    "    now = datetime.now() # get current timestamp \n",
    "    timestamp = now.strftime(timestamp_format) \n",
    "    with open(log_file,\"a\") as f: \n",
    "        f.write(timestamp + ',' + message + '\\n') \n",
    "    # Log the initialization of the ETL process \n",
    "    log_progress(\"ETL Job Started\") \n",
    " \n",
    "    # Log the beginning of the Extraction process \n",
    "    log_progress(\"Extract phase Started\") \n",
    "    extracted_data = extract() \n",
    "\n",
    "    # Log the completion of the Extraction process \n",
    "    log_progress(\"Extract phase Ended\") \n",
    "\n",
    "    # Log the beginning of the Transformation process \n",
    "    log_progress(\"Transform phase Started\") \n",
    "    transformed_data = transform(extracted_data) \n",
    "    print(\"Transformed Data\") \n",
    "    print(transformed_data) \n",
    "\n",
    "    # Log the completion of the Transformation process \n",
    "    log_progress(\"Transform phase Ended\") \n",
    "\n",
    "    # Log the beginning of the Loading process \n",
    "    log_progress(\"Load phase Started\") \n",
    "    load_data(target_file,transformed_data) \n",
    "\n",
    "    # Log the completion of the Loading process \n",
    "    log_progress(\"Load phase Ended\") \n",
    "\n",
    "    # Log the completion of the ETL process \n",
    "    log_progress(\"ETL Job Ended\")"
   ]
  },
  {
   "cell_type": "code",
   "execution_count": null,
   "id": "aa9efacd",
   "metadata": {},
   "outputs": [],
   "source": []
  },
  {
   "cell_type": "code",
   "execution_count": null,
   "id": "dd66a907",
   "metadata": {},
   "outputs": [],
   "source": []
  }
 ],
 "metadata": {
  "kernelspec": {
   "display_name": "Python 3 (ipykernel)",
   "language": "python",
   "name": "python3"
  },
  "language_info": {
   "codemirror_mode": {
    "name": "ipython",
    "version": 3
   },
   "file_extension": ".py",
   "mimetype": "text/x-python",
   "name": "python",
   "nbconvert_exporter": "python",
   "pygments_lexer": "ipython3",
   "version": "3.10.9"
  }
 },
 "nbformat": 4,
 "nbformat_minor": 5
}
