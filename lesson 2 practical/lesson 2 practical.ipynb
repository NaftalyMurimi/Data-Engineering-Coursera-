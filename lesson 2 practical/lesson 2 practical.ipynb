{
 "cells": [
  {
   "cell_type": "markdown",
   "id": "1ed5087a",
   "metadata": {},
   "source": [
    "# Lesson 2 practical EXERCISE"
   ]
  },
  {
   "cell_type": "code",
   "execution_count": 41,
   "id": "be4c1447",
   "metadata": {},
   "outputs": [],
   "source": [
    "# import all modules\n",
    "import glob\n",
    "import pandas as pd \n",
    "import xml.etree.ElementTree as ET \n",
    "from datetime import datetime\n",
    "\n",
    "logFile = \"logFile.txt\"\n",
    "SaveFile =\"Savefile.csv\""
   ]
  },
  {
   "cell_type": "code",
   "execution_count": null,
   "id": "592205b7",
   "metadata": {},
   "outputs": [],
   "source": [
    "\n"
   ]
  },
  {
   "cell_type": "code",
   "execution_count": 42,
   "id": "323f125a",
   "metadata": {},
   "outputs": [],
   "source": [
    "def csv_extract(file):\n",
    "    df = pd.read_csv(file)\n",
    "    return df\n",
    "\n",
    "def json_extract(file):\n",
    "    df = pd.read_json(file, lines=True)\n",
    "    return df\n",
    "\n",
    "def xml_extract(file):\n",
    "    df = pd.DataFrame(columns = [\"car_model\", \"year_of_manufacture\", \"price\", \"fuel\"])\n",
    "    tree = ET.parse(file)\n",
    "    root =tree.getroot()\n",
    "    for car in root:\n",
    "        car_model = car.find(\"car_model\").text\n",
    "        year_of_manufacture = car.find(\"year_of_manufacture\").text\n",
    "        price = float(car.find(\"price\").text)\n",
    "        fuel = car.find(\"fuel\").text\n",
    "        df = pd.concat([df, pd.DataFrame([{\"car_model\": car_model, \"year_of_manufacture\": year_of_manufacture, \"price\":price, \"fuel\":fuel}])], ignore_index= True)\n",
    "        return df\n"
   ]
  },
  {
   "cell_type": "code",
   "execution_count": null,
   "id": "729de544",
   "metadata": {},
   "outputs": [],
   "source": []
  },
  {
   "cell_type": "code",
   "execution_count": 43,
   "id": "cd5b2d8f",
   "metadata": {},
   "outputs": [],
   "source": [
    "def extract():\n",
    "    extracted_data = pd.DataFrame(columns=['car_model', 'year_of_manufacture', 'price', 'fuel'])\n",
    "    for csvfile in glob.glob(\"*.csv\"):\n",
    "        extracted_data= pd.concat([extracted_data, pd.DataFrame(csv_extract(csvfile))], ignore_index= True)\n",
    "\n",
    "    for jsonfile in glob.glob(\"*.json\"):\n",
    "        extracted_data= pd.concat([extracted_data, pd.DataFrame(json_extract(jsonfile))], ignore_index= True)\n",
    "    \n",
    "    for xmlfile in glob.glob(\"*.xml\"):\n",
    "        extracted_data= pd.concat([extracted_data, pd.DataFrame(xml_extract(xmlfile))], ignore_index= True)\n",
    "    return extracted_data\n"
   ]
  },
  {
   "cell_type": "code",
   "execution_count": null,
   "id": "860e39a9",
   "metadata": {},
   "outputs": [],
   "source": []
  },
  {
   "cell_type": "code",
   "execution_count": 44,
   "id": "a46d8a0e",
   "metadata": {},
   "outputs": [],
   "source": [
    "def transform(data):\n",
    "    data[\"price\"] = round(data.price, 2)\n",
    "    return data\n",
    "\n",
    "def load(SaveFile, transformed_data):\n",
    "    transformed_data.to_csv(SaveFile)\n",
    "\n"
   ]
  },
  {
   "cell_type": "code",
   "execution_count": 45,
   "id": "992ab4fe",
   "metadata": {},
   "outputs": [
    {
     "name": "stdout",
     "output_type": "stream",
     "text": [
      "Transformed Data\n",
      "        car_model year_of_manufacture     price    fuel\n",
      "0            ritz                2014   5000.00  Petrol\n",
      "1             sx4                2013   7089.55  Diesel\n",
      "2            ciaz                2017  10820.90  Petrol\n",
      "3         wagon r                2011   4253.73  Petrol\n",
      "4           swift                2014   6865.67  Diesel\n",
      "..            ...                 ...       ...     ...\n",
      "58        etios g                2014   6119.40  Petrol\n",
      "59       fortuner                2014  29835.82  Diesel\n",
      "60  corolla altis                2013  10373.13  Petrol\n",
      "61     etios liva                2014   5895.52  Diesel\n",
      "62  corolla altis                2016  21985.07  Diesel\n",
      "\n",
      "[63 rows x 4 columns]\n"
     ]
    }
   ],
   "source": [
    "def log_progress(message): \n",
    "    timestamp_format = '%Y-%h-%d-%H:%M:%S' # Year-Monthname-Day-Hour-Minute-Second \n",
    "    now = datetime.now() # get current timestamp \n",
    "    timestamp = now.strftime(timestamp_format) \n",
    "    with open(logFile,\"a\") as f: \n",
    "        f.write(timestamp + ',' + message + '\\n') \n",
    "\n",
    "# Log the initialization of the ETL process \n",
    "log_progress(\"ETL Job Started\") \n",
    " \n",
    "# Log the beginning of the Extraction process \n",
    "log_progress(\"Extract phase Started\") \n",
    "extracted_data = extract() \n",
    " \n",
    "# Log the completion of the Extraction process \n",
    "log_progress(\"Extract phase Ended\") \n",
    " \n",
    "# Log the beginning of the Transformation process \n",
    "log_progress(\"Transform phase Started\") \n",
    "transformed_data = transform(extracted_data) \n",
    "print(\"Transformed Data\") \n",
    "print(transformed_data) \n",
    " \n",
    "# Log the completion of the Transformation process \n",
    "log_progress(\"Transform phase Ended\") \n",
    " \n",
    "# Log the beginning of the Loading process \n",
    "log_progress(\"Load phase Started\") \n",
    "load(SaveFile,transformed_data) \n",
    " \n",
    "# Log the completion of the Loading process \n",
    "log_progress(\"Load phase Ended\") \n",
    " \n",
    "# Log the completion of the ETL process \n",
    "log_progress(\"ETL Job Ended\")"
   ]
  },
  {
   "cell_type": "code",
   "execution_count": null,
   "id": "e43d1de5",
   "metadata": {},
   "outputs": [],
   "source": []
  }
 ],
 "metadata": {
  "kernelspec": {
   "display_name": "Python 3 (ipykernel)",
   "language": "python",
   "name": "python3"
  },
  "language_info": {
   "codemirror_mode": {
    "name": "ipython",
    "version": 3
   },
   "file_extension": ".py",
   "mimetype": "text/x-python",
   "name": "python",
   "nbconvert_exporter": "python",
   "pygments_lexer": "ipython3",
   "version": "3.10.9"
  }
 },
 "nbformat": 4,
 "nbformat_minor": 5
}
