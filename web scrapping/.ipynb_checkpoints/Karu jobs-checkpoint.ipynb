{
 "cells": [
  {
   "cell_type": "markdown",
   "id": "5ea7fac5",
   "metadata": {},
   "source": [
    "# Web-scrapping jobs from karatina university website"
   ]
  },
  {
   "cell_type": "markdown",
   "id": "e02ac6e8",
   "metadata": {},
   "source": [
    "### NOTE: This project is for learing purposes only"
   ]
  },
  {
   "cell_type": "markdown",
   "id": "21a4fefd",
   "metadata": {},
   "source": [
    "This Prpject aims at scrapping jobs listed at karatina university website. \n",
    "The details to be extracted are job Title, job Grade, No of positions to be filled Positions and Reference Number\n",
    "The data will then be stored in Karu_jobs.csv and karu_jobs.db files"
   ]
  },
  {
   "cell_type": "code",
   "execution_count": 68,
   "id": "a5dba6eb",
   "metadata": {},
   "outputs": [],
   "source": [
    "# Import all neccessary modules\n",
    "import requests\n",
    "import sqlite3\n",
    "import pandas as pd\n",
    "from bs4 import BeautifulSoup "
   ]
  },
  {
   "cell_type": "code",
   "execution_count": 69,
   "id": "4587390e",
   "metadata": {},
   "outputs": [],
   "source": [
    "#define the url to fetch data from\n",
    "url = \"https://karu.ac.ke/past-jobs-karatina-university-page/\"\n",
    "#Declare files to store extracted data\n",
    "karu_jobs = \"karu_jobs.csv\"\n",
    "karu_careers = \"karu_jobs.db\"\n",
    "# Define a dataframe variable to store job Title, job Grade, No of positions to be filled Positions and Reference Number\n",
    "df = pd.DataFrame(columns= [\"Job_Title\", \"Job_Grade\", \"No_Of_Positions\", \"Reference_No\"])\n",
    "count = 0\n"
   ]
  },
  {
   "cell_type": "code",
   "execution_count": 70,
   "id": "3bb2cedb",
   "metadata": {},
   "outputs": [],
   "source": [
    "#Access the contents of the webpage\n",
    "html_page = requests.get(url).text\n",
    "data = BeautifulSoup(html_page, 'html.parser')"
   ]
  },
  {
   "cell_type": "code",
   "execution_count": 71,
   "id": "8d3f0a5a",
   "metadata": {},
   "outputs": [],
   "source": [
    "#Scrap the target table data\n",
    "tables = data.find_all('tbody')\n",
    "rows = tables[0].find_all('tr')"
   ]
  },
  {
   "cell_type": "code",
   "execution_count": 103,
   "id": "af852b3c",
   "metadata": {},
   "outputs": [],
   "source": [
    "#Iterate over the content of the table rows and append each row to the dataframe\n",
    "\n",
    "for row in rows:\n",
    "    if count<50:\n",
    "        col = row.find_all('td')\n",
    "        if len(col)!=0:\n",
    "            data_dict = {\"Job_Title\": col[1].contents[2],\n",
    "                         \"Job_Grade\": col[2].contents[0],\n",
    "                         \"No_Of_Positions\": col[3].contents[0],\n",
    "                        \"Reference_No\": col[4].contents[0]}\n",
    "            df1 = pd.DataFrame(data_dict, index=[0])\n",
    "            df = pd.concat([df,df1], ignore_index=True)\n",
    "            count+=1\n",
    "    else:\n",
    "        break\n"
   ]
  },
  {
   "cell_type": "code",
   "execution_count": 105,
   "id": "017b17a3",
   "metadata": {},
   "outputs": [
    {
     "name": "stdout",
     "output_type": "stream",
     "text": [
      "                     Job_Title Job_Grade No_Of_Positions Reference_No\n",
      "0                           \\n        \\n              \\n           \\n\n",
      "1                           \\n        \\n              \\n           \\n\n",
      "2                           \\n        \\n              \\n           \\n\n",
      "3                           \\n        \\n              \\n           \\n\n",
      "4                           \\n        \\n              \\n           \\n\n",
      "5                           \\n        \\n              \\n           \\n\n",
      "6                           \\n        \\n              \\n           \\n\n",
      "7                           \\n        \\n              \\n           \\n\n",
      "8                           \\n        \\n              \\n           \\n\n",
      "9                           \\n        \\n              \\n           \\n\n",
      "10                          \\n        \\n              \\n           \\n\n",
      "11                          \\n        \\n              \\n           \\n\n",
      "12                          \\n        \\n              \\n           \\n\n",
      "13                          \\n        \\n              \\n           \\n\n",
      "14                          \\n        \\n              \\n           \\n\n",
      "15                          \\n        \\n              \\n           \\n\n",
      "16                          \\n        \\n              \\n           \\n\n",
      "17                          \\n        \\n              \\n           \\n\n",
      "18                          \\n        \\n              \\n           \\n\n",
      "19                          \\n        \\n              \\n           \\n\n",
      "20                          \\n        \\n              \\n           \\n\n",
      "21                          \\n        \\n              \\n           \\n\n",
      "22                          \\n        \\n              \\n           \\n\n",
      "23                          \\n        \\n              \\n           \\n\n",
      "24                          \\n        \\n              \\n           \\n\n",
      "25                          \\n        \\n              \\n           \\n\n",
      "26                          \\n        \\n              \\n           \\n\n",
      "27                          \\n        \\n              \\n           \\n\n",
      "28                          \\n        \\n              \\n           \\n\n",
      "29                          \\n        \\n              \\n           \\n\n",
      "30                          \\n        \\n              \\n           \\n\n",
      "31                          \\n        \\n              \\n           \\n\n",
      "32                          \\n        \\n              \\n           \\n\n",
      "33                          \\n        \\n              \\n           \\n\n",
      "34                          \\n        \\n              \\n           \\n\n",
      "35                          \\n        \\n              \\n           \\n\n",
      "36                          \\n        \\n              \\n           \\n\n",
      "37                          \\n        \\n              \\n           \\n\n",
      "38                          \\n        \\n              \\n           \\n\n",
      "39                          \\n        \\n              \\n           \\n\n",
      "40                                    \\n              \\n           \\n\n",
      "41                    1.              \\n              \\n           \\n\n",
      "42                    2.              \\n              \\n           \\n\n",
      "43                    3.              \\n              \\n           \\n\n",
      "44                    4.              \\n              \\n           \\n\n",
      "45  [NON – ACADEMIC POSITIONS]        \\n              \\n           \\n\n",
      "46                    5.              \\n              \\n           \\n\n",
      "47                    6.              \\n              \\n           \\n\n",
      "48                    7.              \\n              \\n           \\n\n",
      "49                    8.              \\n              \\n           \\n\n"
     ]
    }
   ],
   "source": [
    "#View the scrapped data\n",
    "print(df)"
   ]
  },
  {
   "cell_type": "code",
   "execution_count": null,
   "id": "eb5c10eb",
   "metadata": {},
   "outputs": [],
   "source": []
  },
  {
   "cell_type": "code",
   "execution_count": null,
   "id": "396b509e",
   "metadata": {},
   "outputs": [],
   "source": []
  },
  {
   "cell_type": "code",
   "execution_count": null,
   "id": "25ad4fb5",
   "metadata": {},
   "outputs": [],
   "source": []
  },
  {
   "cell_type": "code",
   "execution_count": null,
   "id": "b6ae6187",
   "metadata": {},
   "outputs": [],
   "source": []
  },
  {
   "cell_type": "code",
   "execution_count": null,
   "id": "430a9018",
   "metadata": {},
   "outputs": [],
   "source": []
  }
 ],
 "metadata": {
  "kernelspec": {
   "display_name": "Python 3 (ipykernel)",
   "language": "python",
   "name": "python3"
  },
  "language_info": {
   "codemirror_mode": {
    "name": "ipython",
    "version": 3
   },
   "file_extension": ".py",
   "mimetype": "text/x-python",
   "name": "python",
   "nbconvert_exporter": "python",
   "pygments_lexer": "ipython3",
   "version": "3.10.9"
  }
 },
 "nbformat": 4,
 "nbformat_minor": 5
}
