{
 "cells": [
  {
   "cell_type": "markdown",
   "id": "54c10b52",
   "metadata": {},
   "source": [
    "Collecting data from websites using an automated process is known as web scraping"
   ]
  },
  {
   "cell_type": "markdown",
   "id": "2b0325f1",
   "metadata": {},
   "source": []
  },
  {
   "cell_type": "markdown",
   "id": "e6b98376",
   "metadata": {},
   "source": [
    "### urllib\n",
    "the urllib.request module contains a function called urlopen() that you can use to open a URL within a program."
   ]
  },
  {
   "cell_type": "code",
   "execution_count": 14,
   "id": "1dbbd86b",
   "metadata": {},
   "outputs": [
    {
     "name": "stdout",
     "output_type": "stream",
     "text": [
      "<http.client.HTTPResponse object at 0x000001DFE714EB30>\n"
     ]
    }
   ],
   "source": [
    "from urllib.request import urlopen\n",
    "#url =\"https://atti.ac.ke\"\n",
    "url = \"http://olympus.realpython.org/profiles/aphrodite\"\n",
    "# To open the web page, pass url to urlopen():\n",
    "page = urlopen(url)\n",
    "#urlopen() returns an HTTPResponse object:\n",
    "print(page)\n"
   ]
  },
  {
   "cell_type": "markdown",
   "id": "cf2c3723",
   "metadata": {},
   "source": [
    "To extract the HTML from the page, first use the HTTPResponse object’s .read() method, which returns a sequence of bytes. Then use .decode() to decode the bytes to a string using UTF-8:"
   ]
  },
  {
   "cell_type": "code",
   "execution_count": 15,
   "id": "20b26f47",
   "metadata": {},
   "outputs": [
    {
     "name": "stdout",
     "output_type": "stream",
     "text": [
      "<html>\n",
      "<head>\n",
      "<title>Profile: Aphrodite</title>\n",
      "</head>\n",
      "<body bgcolor=\"yellow\">\n",
      "<center>\n",
      "<br><br>\n",
      "<img src=\"/static/aphrodite.gif\" />\n",
      "<h2>Name: Aphrodite</h2>\n",
      "<br><br>\n",
      "Favorite animal: Dove\n",
      "<br><br>\n",
      "Favorite color: Red\n",
      "<br><br>\n",
      "Hometown: Mount Olympus\n",
      "</center>\n",
      "</body>\n",
      "</html>\n",
      "\n"
     ]
    }
   ],
   "source": [
    "html_bytes = page.read()\n",
    "html = html_bytes.decode(\"utf-8\")\n",
    "print(html)"
   ]
  },
  {
   "cell_type": "markdown",
   "id": "165e96d9",
   "metadata": {},
   "source": [
    "### Extract Text From HTML With String Methods"
   ]
  },
  {
   "cell_type": "markdown",
   "id": "713c1c81",
   "metadata": {},
   "source": [
    "One way to extract information from a web page’s HTML is to use string methods. For instance, you can use .find() to search through the text of the HTML for the <title> tags and extract the title of the web page.\n",
    "    To start, you’ll extract the title of the web page that you requested in the previous example. If you know the index of the first character of the title and the index of the first character of the closing </title> tag, then you can use a string slice to extract the title.\n",
    "\n",
    "Because .find() returns the index of the first occurrence of a substring, you can get the index of the opening <title> tag by passing the string \"<title>\" to .find():"
   ]
  },
  {
   "cell_type": "code",
   "execution_count": 20,
   "id": "cb15780a",
   "metadata": {},
   "outputs": [
    {
     "data": {
      "text/plain": [
       "14"
      ]
     },
     "execution_count": 20,
     "metadata": {},
     "output_type": "execute_result"
    }
   ],
   "source": [
    "title_index = html.find(\"<title>\")\n",
    "title_index\n"
   ]
  },
  {
   "cell_type": "markdown",
   "id": "b27d794c",
   "metadata": {},
   "source": [
    "You don’t want the index of the <title> tag, though. You want the index of the title itself. To get the index of the first letter in the title, you can add the length of the string \"<title>\" to title_index:"
   ]
  },
  {
   "cell_type": "code",
   "execution_count": 21,
   "id": "f9236955",
   "metadata": {},
   "outputs": [
    {
     "data": {
      "text/plain": [
       "21"
      ]
     },
     "execution_count": 21,
     "metadata": {},
     "output_type": "execute_result"
    }
   ],
   "source": [
    "start_index = title_index + len(\"<title>\")\n",
    "start_index\n",
    "21"
   ]
  },
  {
   "cell_type": "markdown",
   "id": "be3414e4",
   "metadata": {},
   "source": [
    "Now get the index of the closing </title> tag by passing the string \"</title>\" to .find():"
   ]
  },
  {
   "cell_type": "code",
   "execution_count": 22,
   "id": "1149ad46",
   "metadata": {},
   "outputs": [
    {
     "data": {
      "text/plain": [
       "39"
      ]
     },
     "execution_count": 22,
     "metadata": {},
     "output_type": "execute_result"
    }
   ],
   "source": [
    "end_index = html.find(\"</title>\")\n",
    "end_index\n"
   ]
  },
  {
   "cell_type": "code",
   "execution_count": 23,
   "id": "ec0f34d1",
   "metadata": {},
   "outputs": [
    {
     "data": {
      "text/plain": [
       "'Profile: Aphrodite'"
      ]
     },
     "execution_count": 23,
     "metadata": {},
     "output_type": "execute_result"
    }
   ],
   "source": [
    "#Finally, you can extract the title by slicing the html string\n",
    "title = html[start_index:end_index]\n",
    "title\n"
   ]
  },
  {
   "cell_type": "markdown",
   "id": "4b11eb10",
   "metadata": {},
   "source": [
    "### Regular expressions—or regexes"
   ]
  },
  {
   "cell_type": "markdown",
   "id": "98f7abec",
   "metadata": {},
   "source": [
    "short patterns that you can use to search for text within a string. Python supports regular expressions through the standard library’s re module."
   ]
  },
  {
   "cell_type": "code",
   "execution_count": 24,
   "id": "70aae0fb",
   "metadata": {},
   "outputs": [],
   "source": [
    "import re"
   ]
  },
  {
   "cell_type": "raw",
   "id": "6abbd6ff",
   "metadata": {},
   "source": [
    "Regular expressions use special characters called metacharacters to denote different patterns. For instance, the asterisk character (*) stands for zero or more instances of whatever comes just before the asterisk.\n",
    "\n",
    "In the following example, you use .findall() to find any text within a string that matches a given regular expression:"
   ]
  },
  {
   "cell_type": "code",
   "execution_count": 30,
   "id": "44702ebf",
   "metadata": {},
   "outputs": [
    {
     "data": {
      "text/plain": [
       "['ac']"
      ]
     },
     "execution_count": 30,
     "metadata": {},
     "output_type": "execute_result"
    }
   ],
   "source": [
    "re.findall(\"ab*c\",  \"dsfacu\")\n"
   ]
  },
  {
   "cell_type": "raw",
   "id": "224b9da0",
   "metadata": {},
   "source": [
    "The first argument of re.findall() is the regular expression that you want to match, and the second argument is the string to test. In the above example, you search for the pattern \"ab*c\" in the string \"ac\".\n",
    "\n",
    "The regular expression \"ab*c\" matches any part of the string that begins with \"a\", ends with \"c\", and has zero or more instances of \"b\" between the two. re.findall() returns a list of all matches. The string \"ac\" matches this pattern, so it’s returned in the list."
   ]
  },
  {
   "cell_type": "raw",
   "id": "826e64b8",
   "metadata": {},
   "source": [
    "Pattern matching is case sensitive. If you want to match this pattern regardless of the case, then you can pass a third argument with the value re.IGNORECASE:"
   ]
  },
  {
   "cell_type": "code",
   "execution_count": 33,
   "id": "b2a7ebba",
   "metadata": {},
   "outputs": [
    {
     "data": {
      "text/plain": [
       "['abc']"
      ]
     },
     "execution_count": 33,
     "metadata": {},
     "output_type": "execute_result"
    }
   ],
   "source": [
    "re.findall(\"ab*c\", \"abcd\")\n",
    "#re.findall(\"ab*c\", \"ABC\", re.IGNORECASE)\n"
   ]
  },
  {
   "cell_type": "raw",
   "id": "b0222c3b",
   "metadata": {},
   "source": [
    "You can use a period (.) to stand for any single character in a regular expression. For instance, you could find all the strings that contain the letters \"a\" and \"c\" separated by a single character as follows:"
   ]
  },
  {
   "cell_type": "code",
   "execution_count": 34,
   "id": "ec55c01d",
   "metadata": {},
   "outputs": [
    {
     "data": {
      "text/plain": [
       "['abc']"
      ]
     },
     "execution_count": 34,
     "metadata": {},
     "output_type": "execute_result"
    }
   ],
   "source": [
    "re.findall(\"a.c\", \"abc\")"
   ]
  },
  {
   "cell_type": "code",
   "execution_count": 36,
   "id": "30f5294d",
   "metadata": {},
   "outputs": [
    {
     "data": {
      "text/plain": [
       "['abtyc']"
      ]
     },
     "execution_count": 36,
     "metadata": {},
     "output_type": "execute_result"
    }
   ],
   "source": [
    "re.findall(\"a.*c\", \"abtyc\")"
   ]
  },
  {
   "cell_type": "markdown",
   "id": "ea9b7f8b",
   "metadata": {},
   "source": [
    "## Use an HTML Parser for Web Scraping in Python"
   ]
  },
  {
   "cell_type": "markdown",
   "id": "09b93b61",
   "metadata": {},
   "source": [
    "# Beautiful Soup"
   ]
  },
  {
   "cell_type": "code",
   "execution_count": 42,
   "id": "b1755d4a",
   "metadata": {},
   "outputs": [
    {
     "name": "stdout",
     "output_type": "stream",
     "text": [
      "<html>\n",
      "<head>\n",
      "<title>Profile: Dionysus</title>\n",
      "</head>\n",
      "<body bgcolor=\"yellow\">\n",
      "<center>\n",
      "<br/><br/>\n",
      "<img src=\"/static/dionysus.jpg\"/>\n",
      "<h2>Name: Dionysus</h2>\n",
      "<img src=\"/static/grapes.png\"/><br/><br/>\n",
      "Hometown: Mount Olympus\n",
      "<br/><br/>\n",
      "Favorite animal: Leopard <br/>\n",
      "<br/>\n",
      "Favorite Color: Wine\n",
      "</center>\n",
      "</body>\n",
      "</html>\n",
      "\n"
     ]
    }
   ],
   "source": [
    "from bs4 import BeautifulSoup as BS\n",
    "from urllib.request import urlopen\n",
    "\n",
    "url =\"http://olympus.realpython.org/profiles/dionysus\"\n",
    "page = urlopen(url)\n",
    "content = page.read().decode(\"utf-8\")\n",
    "soup = BS(content, \"html.parser\")\n",
    "print(soup)"
   ]
  },
  {
   "cell_type": "markdown",
   "id": "93984e75",
   "metadata": {},
   "source": [
    "The above code does the following\n",
    "\n",
    "Opens the URL http://olympus.realpython.org/profiles/dionysus by using urlopen() from the urllib.request module\n",
    "\n",
    "Reads the HTML from the page as a string and assigns it to the content variable\n",
    "\n",
    "Creates a BeautifulSoup object and assigns it to the soup variable"
   ]
  },
  {
   "cell_type": "code",
   "execution_count": 48,
   "id": "ff177152",
   "metadata": {},
   "outputs": [
    {
     "name": "stdout",
     "output_type": "stream",
     "text": [
      "Profile: DionysusName: DionysusHometown: Mount OlympusFavorite animal: Leopard Favorite Color: Wine\n",
      "\n",
      "\n",
      "Profile: Dionysus\n",
      "\n",
      "\n",
      "\n",
      "\n",
      "\n",
      "Name: Dionysus\n",
      "\n",
      "Hometown: Mount Olympus\n",
      "\n",
      "Favorite animal: Leopard \n",
      "\n",
      "Favorite Color: Wine\n",
      "\n",
      "\n",
      "\n",
      "\n"
     ]
    }
   ],
   "source": [
    "q= soup.get_text()\n",
    "a= q.replace('\\n', '')\n",
    "print(a)\n",
    "print(q)"
   ]
  },
  {
   "cell_type": "code",
   "execution_count": null,
   "id": "77965c57",
   "metadata": {},
   "outputs": [],
   "source": []
  }
 ],
 "metadata": {
  "kernelspec": {
   "display_name": "Python 3 (ipykernel)",
   "language": "python",
   "name": "python3"
  },
  "language_info": {
   "codemirror_mode": {
    "name": "ipython",
    "version": 3
   },
   "file_extension": ".py",
   "mimetype": "text/x-python",
   "name": "python",
   "nbconvert_exporter": "python",
   "pygments_lexer": "ipython3",
   "version": "3.10.9"
  }
 },
 "nbformat": 4,
 "nbformat_minor": 5
}
